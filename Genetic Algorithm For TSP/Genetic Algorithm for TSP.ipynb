{
 "cells": [
  {
   "cell_type": "markdown",
   "id": "74a915bd-6657-4280-8aac-4844f8f50b57",
   "metadata": {},
   "source": [
    "<h1>Genetic algorithm for solving Ttavelling Salesman Problem</h1>"
   ]
  },
  {
   "cell_type": "code",
   "execution_count": 1,
   "id": "2f24fa12-b58e-496b-8de1-be87b1f7ac89",
   "metadata": {},
   "outputs": [],
   "source": [
    "import numpy as np\n",
    "import matplotlib.pyplot as plt\n",
    "import random\n",
    "from tqdm.notebook import tqdm"
   ]
  },
  {
   "cell_type": "markdown",
   "id": "b8312160-cc5f-445c-afff-718a0d32dbb4",
   "metadata": {},
   "source": [
    "Reading the test case fine which contains locations of cities."
   ]
  },
  {
   "cell_type": "code",
   "execution_count": 2,
   "id": "43dc3db0-5a6a-49b6-92db-887bc6099a33",
   "metadata": {},
   "outputs": [],
   "source": [
    "with open('./testcases/lu980.tsp') as f:\n",
    "    lines = f.readlines()[7:-1]\n",
    "\n",
    "n = len(lines)\n",
    "coordinates = np.zeros((n ,2))\n",
    "\n",
    "for index, line in enumerate(lines):\n",
    "\n",
    "    coordinates[index] = line.split()[1], line.split()[2]"
   ]
  },
  {
   "cell_type": "markdown",
   "id": "6a815618-67f3-4aba-a51f-cc683bf2ada8",
   "metadata": {},
   "source": [
    "Getting a distance matrix from coordinates of cities."
   ]
  },
  {
   "cell_type": "code",
   "execution_count": 3,
   "id": "6ebc7a17-c842-457b-b3f7-a4c23a9bb7cf",
   "metadata": {},
   "outputs": [],
   "source": [
    "def get_distance_matrix(coordinates):\n",
    "    n = len(coordinates)\n",
    "    \n",
    "    dist = np.zeros((n, n))\n",
    "    \n",
    "    for i in range(n):\n",
    "        for j in range(n):\n",
    "            dist[i, j] = np.sqrt(((coordinates[i] - coordinates[j])**2).sum())\n",
    "    return dist"
   ]
  },
  {
   "cell_type": "code",
   "execution_count": 4,
   "id": "ba5f2fb1-3824-4215-be09-ff2b13ca827b",
   "metadata": {},
   "outputs": [],
   "source": [
    "dist = get_distance_matrix(coordinates)"
   ]
  },
  {
   "cell_type": "markdown",
   "id": "10776c99-34e3-40e0-b1c2-2b0ad62e616e",
   "metadata": {},
   "source": [
    "Generating a random initial population. Each chromosome here is a permutation."
   ]
  },
  {
   "cell_type": "code",
   "execution_count": 5,
   "id": "30a5e680-e2ef-4ff5-9e89-03560a4266f1",
   "metadata": {},
   "outputs": [],
   "source": [
    "def random_population(pop_size, n):\n",
    "    \n",
    "    initial_pop = np.zeros((pop_size, n))\n",
    "    \n",
    "    for i in range(pop_size):\n",
    "        perm = np.random.permutation(n)\n",
    "        initial_pop[i] = perm\n",
    "    \n",
    "    return initial_pop.astype('int32')"
   ]
  },
  {
   "cell_type": "markdown",
   "id": "63796e83-006d-4bcf-845b-26aad8e6f30f",
   "metadata": {},
   "source": [
    "Calculating the cost of a permutation."
   ]
  },
  {
   "cell_type": "code",
   "execution_count": 6,
   "id": "12b43d1e-fc86-40af-8d04-03caaea23763",
   "metadata": {},
   "outputs": [],
   "source": [
    "def path_cost(solution):\n",
    "    \n",
    "    n = len(solution)\n",
    "    \n",
    "    cost = 0.0\n",
    "    \n",
    "    for i in range(n):\n",
    "                \n",
    "        cost += dist[solution[i], solution[(i+1)%n]]\n",
    "        \n",
    "    return cost"
   ]
  },
  {
   "cell_type": "markdown",
   "id": "6ad416fb-fcf2-4695-99aa-19374027f983",
   "metadata": {},
   "source": [
    "Fitness of a solution. Just negative of its cost because fitness of cost are inversely related."
   ]
  },
  {
   "cell_type": "code",
   "execution_count": 7,
   "id": "ba7eed41-0f75-411f-84e1-bb4fd41ad801",
   "metadata": {},
   "outputs": [],
   "source": [
    "def fitness(solution):\n",
    "    return -path_cost(solution)"
   ]
  },
  {
   "cell_type": "markdown",
   "id": "4f0e1e5a-4755-4da7-a863-a66a66f063df",
   "metadata": {},
   "source": [
    "For crossover, we define a crossover_rate. This indicates the proportion of population subject to corssover. For each new child we take 2 parents. Then we take a random index, fill the first half of child (up to generated index) with the first parents value and then we fill the rest of child with unseen values from second parent."
   ]
  },
  {
   "cell_type": "code",
   "execution_count": 8,
   "id": "fa59cc99-1337-4a21-acce-49539eac1707",
   "metadata": {},
   "outputs": [],
   "source": [
    "def crossover(population, crossover_rate):\n",
    "    \n",
    "    \n",
    "    n = len(population[0])\n",
    "    m = len(population)\n",
    "    crossover_n = int(m * crossover_rate)\n",
    "    \n",
    "    indices = np.random.randint(low=0, high=m, size=(crossover_n, 2))\n",
    "    \n",
    "    crossover_pop = np.zeros((crossover_n, n)).astype('int32')\n",
    "    \n",
    "    for i in range(crossover_n):\n",
    "        \n",
    "        l = np.random.randint(0, n)\n",
    "        \n",
    "        parent1, parent2 = population[indices[i][0]], population[indices[i][1]]\n",
    "        \n",
    "        crossover_pop[i][:l] = parent1[:l]\n",
    "        \n",
    "        c = l\n",
    "        \n",
    "        for j in range(l, l + n):\n",
    "            if parent2[j % n] not in crossover_pop[i]:\n",
    "                crossover_pop[i][c] = parent2[j % n]\n",
    "                c += 1\n",
    "        \n",
    "    return crossover_pop"
   ]
  },
  {
   "cell_type": "markdown",
   "id": "1577ccdb-c163-484b-af53-9171691d0331",
   "metadata": {},
   "source": [
    "For mutation, we take a sample of population proportional to mutation_rate, then randomly shuffle whatever is between two randomly generated indices."
   ]
  },
  {
   "cell_type": "code",
   "execution_count": 9,
   "id": "c26874e0-3592-49da-8216-100aa0fdf2dc",
   "metadata": {},
   "outputs": [],
   "source": [
    "def mutation(population, mutation_rate):\n",
    "    \n",
    "    n = len(population[0])\n",
    "    m = len(population)\n",
    "    mutation_n = int(m * mutation_rate)\n",
    "    \n",
    "    indices = np.random.randint(low=0, high=m, size=(mutation_n))\n",
    "    \n",
    "    mutation_pop = np.zeros((mutation_n, n)).astype('int32')\n",
    "    \n",
    "    for (i, index) in enumerate(indices):\n",
    "        \n",
    "        l1, l2 = np.random.randint(0, n, size = 2)\n",
    "        \n",
    "        if l1 > l2:\n",
    "            l1, l2 = l2, l1\n",
    "        \n",
    "        mutation_pop[i] = population[index]\n",
    "        np.random.shuffle(mutation_pop[i][l1:l2])\n",
    "    \n",
    "    return mutation_pop"
   ]
  },
  {
   "cell_type": "markdown",
   "id": "80d37a4b-a3ce-4c0e-ae05-9d2a84a32a09",
   "metadata": {},
   "source": [
    "For selection, first we sort the chromosomes according to their fitness. Then we select a number of best chromosomes (from top of the list) proportional to select_elites parameter. And we randomly select some chromosomes from the remaining ones to keep the population diverse."
   ]
  },
  {
   "cell_type": "code",
   "execution_count": 10,
   "id": "4d9ff5d6-3145-4674-aa8f-dc6e5a1e523b",
   "metadata": {},
   "outputs": [],
   "source": [
    "def selection(population, pop_size, select_elites):\n",
    "        \n",
    "    sorted_pop = np.array(sorted(population, key=fitness, reverse=True))\n",
    "        \n",
    "    n = len(population)\n",
    "    \n",
    "    c1 = int(select_elites * pop_size)\n",
    "    c2 = pop_size - c1\n",
    "        \n",
    "    idx = np.random.choice(n - c1, size=c2, replace=False)\n",
    "    idx += c1 \n",
    "        \n",
    "    selected_pop = sorted_pop[:c1]\n",
    "    selected_pop = np.append(selected_pop, np.take(sorted_pop, idx, axis = 0), 0)\n",
    "    \n",
    "    return selected_pop"
   ]
  },
  {
   "cell_type": "markdown",
   "id": "d6540bc4-771e-421a-906b-baa9d33ac9c6",
   "metadata": {},
   "source": [
    "Implementation of genetic algorithm. Just combines the functions that are defined."
   ]
  },
  {
   "cell_type": "code",
   "execution_count": 11,
   "id": "7cbade62-307a-410c-9b64-505e3dc6a4b6",
   "metadata": {},
   "outputs": [],
   "source": [
    "def genetic_algortithm(dist):\n",
    "    \n",
    "    n = dist.shape[0]\n",
    "\n",
    "    fitnesses = []\n",
    "    \n",
    "    init_pop = random_population(pop_size, n)\n",
    "    current_pop = init_pop\n",
    "\n",
    "    for i in tqdm(range(n_epochs)):\n",
    "                \n",
    "        crossover_pop = crossover(current_pop, crossover_rate)\n",
    "        current_pop = np.concatenate((current_pop, crossover_pop), axis = 0)\n",
    "        \n",
    "        mutation_pop = mutation(current_pop, mutation_rate)\n",
    "        current_pop = np.concatenate((current_pop, mutation_pop))\n",
    "        \n",
    "        \n",
    "        current_pop = selection(current_pop, pop_size, select_elites)\n",
    "        \n",
    "        elite = current_pop[0]\n",
    "        \n",
    "        fitnesses.append(fitness(elite))\n",
    "    \n",
    "    return elite, fitnesses"
   ]
  },
  {
   "cell_type": "markdown",
   "id": "f628c0f6-107d-423c-b7fa-ee4f467ae386",
   "metadata": {},
   "source": [
    "Testing it on a testcase."
   ]
  },
  {
   "cell_type": "code",
   "execution_count": 12,
   "id": "6fa350a3-913b-4fca-b4b4-7070a1b7b5b5",
   "metadata": {},
   "outputs": [
    {
     "data": {
      "application/vnd.jupyter.widget-view+json": {
       "model_id": "b949a6819ce54c5bac2fdfb097298358",
       "version_major": 2,
       "version_minor": 0
      },
      "text/plain": [
       "  0%|          | 0/2000 [00:00<?, ?it/s]"
      ]
     },
     "metadata": {},
     "output_type": "display_data"
    },
    {
     "name": "stdout",
     "output_type": "stream",
     "text": [
      "best solution found is [889 656  96  22 302 813  85 451 658 282 351 318 672 333 810 498 852 412\n",
      " 933 448 367 830  78 833 417   1 342 971 964 750 125 690 790  27 331 290\n",
      " 210 153 973 831 731 514 782 150  83 275 525  77  98 856 976 357  40 863\n",
      " 320 244 703 582 861 885 148   2   6 241 313 760 552 629 639 764 762 505\n",
      " 691 779 179 462 531 334 972 395 155 845 186 907 800 761 299 818 325 300\n",
      " 471 132 686 400 977 769 379 430 452 256 908 416 499 349 447 805  36 952\n",
      " 571 181 262 958 467 723 353 411 360 661 660  74 590 969 206 122 104 642\n",
      " 676 401 485 724 428 583 613 682 838 814 792 851  51 699 520 156 424 267\n",
      " 269 909 188 940 174 296  41 377 166 923 793 475 776 700  47 388 200 143\n",
      " 373 154  99 579 834 307 224  26 251 230 260 482  84 457 547 848 679 207\n",
      "  50  81 637 533 324 437 193 574 216 445  25 195 383 567 651 949 593 344\n",
      " 732 137 550 719 403 853 203 387 472 389 227 577  62  64 278 862 620 523\n",
      " 825 189 270 421 618 361 705 240 849 609 829  97 965  68 294 901 194 772\n",
      " 636 702 506 440 946 753 912 103 152 667 343 801 827 441 306 504 346 742\n",
      " 539 759 883 714 335 493 214  63 592 283  31 495 297  15 689 118 978 149\n",
      " 364 165 687 280 220 809  89 215  92 469 823 287  46 321 226 765 588  18\n",
      "  19 541 704 662 543 356 788 822 413 242 126 743 492 568 114 257 121 777\n",
      " 175 289 378 381 931 868 487 488 778 738 727 481 446  43 330 911 806 123\n",
      " 254 310 466  16 617 372 678  86 106 305 563 429  57 327 603 680 954 562\n",
      " 717 734 393 247 144  20 502  17 177 626 929 878 706 696 860 735 366 605\n",
      " 516 754 197 796 431 112 127 675 644 752  14 323 634 934 870 942 508 606\n",
      " 635  56  42 141 284 694  35 151 945 252 458 341 914 233 864  37 135  13\n",
      " 163 236 358 871 688 900 799 191 859  91 804 228 621 219 250 183 145 198\n",
      " 847 291 692 944 212 665   4 815 789 607 470 185 554 897 528  48  95 527\n",
      " 841 684 898 623 722 246 309 941 308 643 599 350 314 569 454 775 438 328\n",
      " 549 406 739 348 615 337 966 648 480 409 512 450  65 608  30 439 319 951\n",
      " 399 641 130 836 915 751 894  21 720 436 786 666 677 821 559 808 530 517\n",
      " 770 117 120  55 597 540 927 899 418 633 134 463 785 258 773 904 947 625\n",
      " 110 556 803 955 858 711 274 315   7 160 874 526 443 910  70 501 795 147\n",
      "   3 767 170 663 783 622 370  12 886 867 932  32 584 553 674 939 876 100\n",
      " 374 129 866 338 340 873 839  71 832 612 551  54 718 529 826 345 802 585\n",
      " 209 737 594 650 697 591 681 581  93 736 828 534 926 638  80 355 119 628\n",
      " 124 595 781 960 755  34  49 249 521 522 375 263 255 780 159 715 538 880\n",
      " 248 382 671 746 102 685 963 787 906 138 943 519 317 953 893 647  58 902\n",
      " 461 273 766 544 887 444 422 819 402  23 162 169 515 368 396 490 503 881\n",
      " 298 757 891 716 890 491 919 146 589 745 392  73 713 109 168 473 380 600\n",
      "  94 176 415 486 178 645 196 285   5 975 272 611 903 404 968 238 957 365\n",
      " 316 807   8  44 854 561 213 654 229 408 484 748 199  61 542 435  10 301\n",
      " 557 708 201 693 712 974  88 518 489 352 961 888  33 546 930  53 217  52\n",
      " 405 180  11 905 979 555 271  76  69 884 798 286 970 817 468 265 959 232\n",
      " 928 572 420 733 427 747 139 326 239 811 922 432 564 558 936 668 483 202\n",
      " 390  72 322 245 816 580 261 293 857 921 865 164 511 835  60 744 578 824\n",
      " 218 524 872 950 855 560 913 840 709 410 630 683 924 161 535 820 276 205\n",
      " 892 142 204  66 464 113 509 354 292 710 948 726 234  75 956 140 477 434\n",
      " 916 223 962 173 967 433 749 478 295 657 596 610 763 513  28 918 652 925\n",
      " 895 208 707 266 938 425 394 211 741 784  87 167 721 279  67 632 565 460\n",
      " 587 363 288 598 133 414 397 669 695 453 329 532  38 601  39 386 882 339\n",
      " 116 182 459 602 474 896 231 566 281 545 384 837 586 740 172 259 312 510\n",
      " 497 575 136 701 304 225 937 264 311 846 192  45  90 336 771 456 500 111\n",
      " 107 243 768 604 465 369 507 277 268 673 494 171 616 698 573 649 537 442\n",
      " 131 877 376 190 729 536 640 105 670 869 774 664 385 797 108 496 756  79\n",
      " 619 728 419 920 449 614 879 237 725 303 875 128 576 359   9 221 407 646\n",
      " 235 758 570 791 455 548 627 187 479  82 371 476  59 332 842 844 184  24\n",
      " 794 653 655 398 253  29 730 426 423 222 659 812 115 391 935 631 157 850\n",
      " 362 347 843 917 624 101 158   0]\n",
      " and its fitness is -182868\n"
     ]
    },
    {
     "data": {
      "text/plain": [
       "Text(0.5, 1.0, 'Fitness of best solution found over epochs')"
      ]
     },
     "execution_count": 12,
     "metadata": {},
     "output_type": "execute_result"
    },
    {
     "data": {
      "image/png": "[encoded data removed]",
      "text/plain": [
       "<Figure size 640x480 with 1 Axes>"
      ]
     },
     "metadata": {},
     "output_type": "display_data"
    }
   ],
   "source": [
    "pop_size = 150\n",
    "n_epochs = 2000\n",
    "crossover_rate = 0.6\n",
    "mutation_rate = 0.1\n",
    "select_elites = 0.8\n",
    "    \n",
    "\n",
    "elite, fitnesses = genetic_algortithm(dist)\n",
    "\n",
    "print(f\"best solution found is {elite}\\n and its fitness is {fitnesses[-1]:.0f}\")\n",
    "\n",
    "plt.plot(fitnesses)\n",
    "plt.xlabel(\"epohcs\")\n",
    "plt.ylabel(\"fitness of elite\")\n",
    "plt.title(\"Fitness of best solution found over epochs\")"
   ]
  },
  {
   "cell_type": "code",
   "execution_count": null,
   "id": "8ea1ca33-3eb5-49cc-8cc9-776e086c8f07",
   "metadata": {},
   "outputs": [],
   "source": []
  }
 ],
 "metadata": {
  "kernelspec": {
   "display_name": "Python 3 (ipykernel)",
   "language": "python",
   "name": "python3"
  },
  "language_info": {
   "codemirror_mode": {
    "name": "ipython",
    "version": 3
   },
   "file_extension": ".py",
   "mimetype": "text/x-python",
   "name": "python",
   "nbconvert_exporter": "python",
   "pygments_lexer": "ipython3",
   "version": "3.9.12"
  }
 },
 "nbformat": 4,
 "nbformat_minor": 5
}
